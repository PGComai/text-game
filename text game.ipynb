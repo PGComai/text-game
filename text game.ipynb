{
 "cells": [
  {
   "cell_type": "code",
   "execution_count": 1,
   "metadata": {},
   "outputs": [],
   "source": [
    "import pandas as pd\n",
    "import numpy as np\n",
    "import matplotlib\n",
    "import matplotlib.pyplot as plt\n",
    "import random\n",
    "import time\n",
    "import numpy as np"
   ]
  },
  {
   "cell_type": "code",
   "execution_count": 29,
   "metadata": {},
   "outputs": [],
   "source": [
    "# make a class of object that will serve as a map where characters can move around\n",
    "class world:\n",
    "    \n",
    "    # initialize with name, dimensions x and y, level, parent world (main world > dungeon)\n",
    "    def __init__(self, name, x, y, level, parent=False, loc_in_parent=False):\n",
    "        self.name = name\n",
    "        self.width = list(range(x))\n",
    "        self.height = list(range(y))\n",
    "        self.kids = {}\n",
    "        self.parent = False\n",
    "        self.level = level\n",
    "        if parent:\n",
    "            self.parent = parent\n",
    "            self.loc_in_parent = loc_in_parent\n",
    "            parent.add_child(self.name, self.loc_in_parent)\n",
    "        \n",
    "    # return the dimensions of the world as (x,y)\n",
    "    def size(self):\n",
    "        return (len(self.width), len(self.height))\n",
    "    \n",
    "    # add child to list of children whenever referenced as a parent\n",
    "    def add_child(self, child, child_loc):\n",
    "        self.kids[child] = child_loc"
   ]
  },
  {
   "cell_type": "code",
   "execution_count": 30,
   "metadata": {},
   "outputs": [],
   "source": [
    "earth = world('earth', 50, 100, 0)"
   ]
  },
  {
   "cell_type": "code",
   "execution_count": 31,
   "metadata": {},
   "outputs": [
    {
     "data": {
      "text/plain": [
       "(50, 100)"
      ]
     },
     "execution_count": 31,
     "metadata": {},
     "output_type": "execute_result"
    }
   ],
   "source": [
    "earth.size()"
   ]
  },
  {
   "cell_type": "code",
   "execution_count": 32,
   "metadata": {},
   "outputs": [],
   "source": [
    "europe = world('europe', 20, 30, 1, parent=earth, loc_in_parent=(45,60))"
   ]
  },
  {
   "cell_type": "code",
   "execution_count": 6,
   "metadata": {},
   "outputs": [],
   "source": [
    "# make a character class\n",
    "class character:\n",
    "    \n",
    "    # initialize with name, location, spawn location, movement speed, and whether player or npc\n",
    "    def __init__(self, name, location, spawn_loc, speed, player=False):\n",
    "        # str\n",
    "        self.name = name\n",
    "        # ['earth', (x,y)]\n",
    "        self.location = location\n",
    "        # ['earth', (x,y)]\n",
    "        self.spawn = spawn_loc\n",
    "        # int\n",
    "        self.speed = speed\n",
    "        # list\n",
    "        self.bag = []\n",
    "        \n",
    "    def move(self, direction, steps, move_to=False):"
   ]
  },
  {
   "cell_type": "code",
   "execution_count": null,
   "metadata": {},
   "outputs": [],
   "source": [
    "# make an item class (these can be added to the bag)\n",
    "class item:\n",
    "    \n",
    "    # initialize with certain properties\n",
    "    def __init__(self, )"
   ]
  }
 ],
 "metadata": {
  "kernelspec": {
   "display_name": "Python 3",
   "language": "python",
   "name": "python3"
  },
  "language_info": {
   "codemirror_mode": {
    "name": "ipython",
    "version": 3
   },
   "file_extension": ".py",
   "mimetype": "text/x-python",
   "name": "python",
   "nbconvert_exporter": "python",
   "pygments_lexer": "ipython3",
   "version": "3.7.6"
  }
 },
 "nbformat": 4,
 "nbformat_minor": 5
}
