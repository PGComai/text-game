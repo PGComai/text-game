{
 "cells": [
  {
   "cell_type": "code",
   "execution_count": 1,
   "id": "98c412f9-76cf-4089-98ef-583d6f6140b5",
   "metadata": {},
   "outputs": [],
   "source": [
    "import pandas as pd\n",
    "import numpy as np\n",
    "import matplotlib\n",
    "import matplotlib.pyplot as plt\n",
    "import random\n",
    "import time\n",
    "import numpy as np"
   ]
  },
  {
   "cell_type": "code",
   "execution_count": 19,
   "id": "b424cd60-a9d4-430d-ba63-b7b43b017081",
   "metadata": {},
   "outputs": [],
   "source": [
    "# make a class of object that will serve as a map where characters can move around\n",
    "class world:\n",
    "    \n",
    "    # initialize with dimensions x and y, parent world (main world > dungeon)\n",
    "    def __init__(self, x, y, parent=False):\n",
    "        self.width = list(range(x))\n",
    "        self.height = list(range(y))\n",
    "        \n",
    "    # return the dimensions of the world as (x,y)\n",
    "    def size(self):\n",
    "        return (len(self.width), len(self.height))"
   ]
  },
  {
   "cell_type": "code",
   "execution_count": 20,
   "id": "cb057299-5cd6-4131-b2b5-a08b24352354",
   "metadata": {},
   "outputs": [],
   "source": [
    "earth = world(50, 100)"
   ]
  },
  {
   "cell_type": "code",
   "execution_count": 21,
   "id": "29f99490-4f42-44e6-ad75-897f34034f0e",
   "metadata": {},
   "outputs": [
    {
     "data": {
      "text/plain": [
       "(50, 100)"
      ]
     },
     "execution_count": 21,
     "metadata": {},
     "output_type": "execute_result"
    }
   ],
   "source": [
    "earth.size()"
   ]
  },
  {
   "cell_type": "code",
   "execution_count": null,
   "id": "7fce64fe-5a04-443a-b518-63259b489f7d",
   "metadata": {},
   "outputs": [],
   "source": []
  }
 ],
 "metadata": {
  "kernelspec": {
   "display_name": "Python 3 (ipykernel)",
   "language": "python",
   "name": "python3"
  },
  "language_info": {
   "codemirror_mode": {
    "name": "ipython",
    "version": 3
   },
   "file_extension": ".py",
   "mimetype": "text/x-python",
   "name": "python",
   "nbconvert_exporter": "python",
   "pygments_lexer": "ipython3",
   "version": "3.9.12"
  }
 },
 "nbformat": 4,
 "nbformat_minor": 5
}
